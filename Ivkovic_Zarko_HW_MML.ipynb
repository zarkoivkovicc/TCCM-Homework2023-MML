{
 "cells": [
  {
   "cell_type": "code",
   "execution_count": 1,
   "id": "10024ca9-7e94-4f5c-a982-b4537b919d76",
   "metadata": {
    "tags": []
   },
   "outputs": [
    {
     "data": {
      "text/html": [
       "<style>\n",
       "h1, h2, h3, h4, h5, h6 {\n",
       "  font-family: Verdana, \"DejaVu Sans\", \"Bitstream Vera Sans\", Geneva, sans-serif;\n",
       "  font-weight: bold;\n",
       "}\n",
       "body, intro, introE, rq, rqE, ex, exE, app, appE, sol  {\n",
       "  font-family: Verdana, \"DejaVu Sans\", \"Bitstream Vera Sans\", Geneva, sans-serif;\n",
       "  font-weight: 400;\n",
       "  font-size: 12px;\n",
       "}\n",
       "h1 {\n",
       "  border: 0 solid #333;\n",
       "  padding: 30px ;\n",
       "  color: white;\n",
       "  background: #b11d01;\n",
       "  text-align: center;\n",
       "}\n",
       "h2 {\n",
       "  border: 3px solid #333;\n",
       "  padding: 18px ;\n",
       "  color: #b11d01;\n",
       "  background: #ffffff;\n",
       "  text-align: center;\n",
       "}\n",
       "h3 {\n",
       "  border: 0 solid #333;\n",
       "  padding: 12px ;\n",
       "  color: #000000;\n",
       "  background: #c1c1c1;\n",
       "  text-align: left;\n",
       "}\n",
       "h4 {\n",
       "  border: 0 solid #333;\n",
       "  padding: 2px ;\n",
       "  color: #000000;\n",
       "  background: #d9fffc;\n",
       "  text-align: left;\n",
       "}\n",
       "h5 {\n",
       "  border: 1px solid #333;\n",
       "  padding: 2px ;\n",
       "  color: #000000;\n",
       "  background: #ffffff;\n",
       "  text-align: left;\n",
       "}\n",
       ".introT::before {    \n",
       "    content: attr(title);\n",
       "    background-color: #cecece;\n",
       "    margin-left:-0.5em;\n",
       "    margin-right:-0.5em;\n",
       "    padding-left:0.5em;\n",
       "    padding-right:0.5em;\n",
       "    font-weight: 600;\n",
       "    display: block;\n",
       "}\n",
       ".introT {    \n",
       "    background-color: #cecece80;\n",
       "    border-color: #969696;\n",
       "    border-left: 5px solid #969696;\n",
       "    padding: 0.5em;\n",
       "}\n",
       ".intro {    \n",
       "    background-color: #cecece80;\n",
       "    border-color: #969696;\n",
       "    border-left: 5px solid #969696;\n",
       "    padding: 0.5em;\n",
       "}\n",
       ".introE {    \n",
       "    background-color: #cecece80;\n",
       "    border-color: #969696;\n",
       "    border-left: 5px solid #969696;\n",
       "    padding: 0.5em;\n",
       "    color : #117996;\n",
       "}\n",
       ".rq {    \n",
       "    background-color: #fcf2f2;\n",
       "    border-color: #dFb5b4;\n",
       "    border-left: 5px solid #dfb5b4;\n",
       "    padding: 0.5em;\n",
       "}\n",
       ".rqE::before {    \n",
       "    background-color: #fcd3d3;\n",
       "    color: #ff0000;\n",
       "    content:\"Warning\";\n",
       "    margin-left:-0.5em;\n",
       "    margin-right:-0.5em;\n",
       "    padding-left:0.5em;\n",
       "    padding-right:0.5em;\n",
       "    font-weight: 600;\n",
       "    display: block;\n",
       "}\n",
       ".rqE {    \n",
       "    background-color: #fcd3d380;\n",
       "    border-color: #dFb5b4;\n",
       "    border-left: 5px solid #dfb5b4;\n",
       "    padding: 0.5em;\n",
       "}\n",
       ".rqT::before {    \n",
       "    background-color: #fcd3d3;\n",
       "    color: #ff0000;\n",
       "    content: attr(title);\n",
       "    margin-left:-0.5em;\n",
       "    margin-right:-0.5em;\n",
       "    padding-left:0.5em;\n",
       "    padding-right:0.5em;\n",
       "    font-weight: 600;\n",
       "    display: block;\n",
       "}\n",
       ".rqT {    \n",
       "    background-color: #fcd3d380;\n",
       "    border-color: #dFb5b4;\n",
       "    border-left: 5px solid #dfb5b4;\n",
       "    padding: 0.5em;\n",
       "}\n",
       ".exold {    \n",
       "    background-color: #b2dbea80;\n",
       "    border-color: #0055ff;\n",
       "    border-left: 10px solid #0055ff;\n",
       "    padding: 0.5em;\n",
       "}\n",
       ".ex {    \n",
       "    background-color: #b2dbea80;\n",
       "    padding: 0.5em;\n",
       "    padding-top: 0em;\n",
       "    position:relative;\n",
       "}\n",
       ".ex::before {\n",
       "    background-color: #b2dbea;\n",
       "    content:\"Exercice\";\n",
       "    margin-left:-0.5em;\n",
       "    margin-right:-0.5em;\n",
       "    padding-left:0.5em;\n",
       "    padding-right:0.5em;\n",
       "    font-weight: 600;\n",
       "    display: block;\n",
       "}\n",
       ".exE {    \n",
       "    background-color: #b2dbea80;\n",
       "    padding: 0.5em;\n",
       "    padding-top: 0em;\n",
       "    position:relative;\n",
       "    color : #117996;\n",
       "}\n",
       ".exE::before {\n",
       "    background-color: #b2dbea;\n",
       "    content:\"Exercise\";\n",
       "    margin-left:-0.5em;\n",
       "    margin-right:-0.5em;\n",
       "    padding-left:0.5em;\n",
       "    padding-right:0.5em;\n",
       "    font-weight: 600;\n",
       "    display: block;\n",
       "    color : #117996;\n",
       "}\n",
       ".app {    \n",
       "    background-color: #b2dbea80;\n",
       "    padding: 0.5em;\n",
       "    padding-top: 0em;\n",
       "    position:relative;\n",
       "}\n",
       ".app::before {\n",
       "    background-color: #b2dbea;\n",
       "    content:\"Application\";\n",
       "    margin-left:-0.5em;\n",
       "    margin-right:-0.5em;\n",
       "    padding-left:0.5em;\n",
       "    padding-right:0.5em;\n",
       "    font-weight: 600;\n",
       "    display: block;\n",
       "}\n",
       ".appE {    \n",
       "    background-color: #b2dbea80;\n",
       "    padding: 0.5em;\n",
       "    padding-top: 0em;\n",
       "    color : #117996;\n",
       "    position:relative;\n",
       "}\n",
       ".appE::before {\n",
       "    background-color: #b2dbea;\n",
       "    content:\"Application\";\n",
       "    margin-left:-0.5em;\n",
       "    margin-right:-0.5em;\n",
       "    padding-left:0.5em;\n",
       "    padding-right:0.5em;\n",
       "    font-weight: 600;\n",
       "    color : #117996;\n",
       "    display: block;\n",
       "}\n",
       ".sol {    \n",
       "    background-color: #bbeab880;\n",
       "    padding: 0.5em;\n",
       "    padding-top: 0em;\n",
       "    position:relative;\n",
       "}\n",
       ".sol::before {\n",
       "    background-color: #bbeab8;\n",
       "    content:\"Answer\";\n",
       "    margin-left:-0.5em;\n",
       "    margin-right:-0.5em;\n",
       "    padding-left:0.5em;\n",
       "    padding-right:0.5em;\n",
       "    font-weight: 600;\n",
       "    display: block;\n",
       "}\n",
       "</style>\n"
      ],
      "text/plain": [
       "<IPython.core.display.HTML object>"
      ]
     },
     "metadata": {},
     "output_type": "display_data"
    },
    {
     "data": {
      "text/markdown": [
       "**Start at:** Friday 17 November 2023, 18:06:55  \n",
       "**Hostname:** zarko (Linux)"
      ],
      "text/plain": [
       "<IPython.core.display.Markdown object>"
      ]
     },
     "metadata": {},
     "output_type": "display_data"
    },
    {
     "data": {
      "text/markdown": [
       "<p style=\"text-align: center\"><img width=\"800px\" src=\"./config/svg/PytChemBanner.svg\" style=\"margin-left:auto; margin-right:auto\"/></p>"
      ],
      "text/plain": [
       "<IPython.core.display.Markdown object>"
      ]
     },
     "metadata": {},
     "output_type": "display_data"
    }
   ],
   "source": [
    "import os\n",
    "import sys\n",
    "\n",
    "cwd0 = './config/'\n",
    "sys.path.append(cwd0)\n",
    "\n",
    "import visualID_Eng as vID\n",
    "from visualID_Eng import color\n",
    "vID.init(cwd0)"
   ]
  },
  {
   "cell_type": "markdown",
   "id": "0d2e4b9b",
   "metadata": {},
   "source": [
    "\n",
    "# TCCM Homework:<br>**Quality rating of red wines by logistic regression**\n",
    "\n",
    "<div class=\"intro\">\n",
    "    \n",
    "<p style=\"text-align: center\"><img width=\"650px\" src=\"./config/svg/vinho-verde-header.jpg\" style=\"margin-left:auto; margin-right:auto\" id=\"img_vinho_verde\"></p>\n",
    "<br>\n",
    "\n",
    "1. The purpose of this project is to **predict the quality** of Portuguese Vinho Verde wines based on their **physicochemical components**. The intent is to **replace a panel of wine tasters with an artificial neural network**.\n",
    "\n",
    "2. Two **datasets** (one for white wines and the other for red wines) are downloadable on the [UCI machine learning repository](https://archive.ics.uci.edu/ml/datasets/wine+quality). The input variables (descriptors) are\n",
    "- fixed acidity\n",
    "- volatile acidity\n",
    "- citric acid\n",
    "- residual sugar\n",
    "- chlorides\n",
    "- free sulfur dioxide\n",
    "- total sulfur dioxide\n",
    "- density\n",
    "- pH\n",
    "- sulphates\n",
    "- alcohol\n",
    "\n",
    "Whereas the output variable, ***i.e.* the target**, is a 0 to 10 quality score, based on sensory data\n",
    "\n",
    "3. **Bibliography**. There are two main references:\n",
    "- An [original paper](https://doi.org/10.1016/j.dss.2009.05.016): Modeling wine preferences by data mining from physicochemical properties (**2009**), by Paulo Cortez, António Cerdeira, Fernando Almeida, Telmo Matos, José Reis, *Decision Support Systems* **47**: 547-553\n",
    "- A [Wine Project github repository](https://github.com/kmspitzer/final-wineproject), at the core of the [Wine Quality website](https://ucsd-winequality.herokuapp.com/). Authors explored several classifiers: K Nearest Neighbors, Decision Tree, Random Forest, Random Forest Regressor, Stochastic Gradient Descent, Support Vector Classification, Linear Support Vector Classification, AdaBoost Classifier, Gradient Boost Classifier, XGB Classifier, and obtained 69% to 95% performance, the highest being from the Random Forest Regression, Random Forest, and XGBoost models.\n",
    "\n",
    "Some useful pieces of codes will be found on the previous website as well as on the present PytChem repository. If you analyze the ML notebooks carefully, you will see that some pieces of code such as automatic one-hot encoding etc... are available, although they might have not been used during the talktorials (see the [DS4B-Appendix.ipynb notebook](./DS4B-Appendix.ipynb) and the [tools4PytChem.py scripts](./config/tools4PytChem.py))\n",
    "\n",
    "4. **Mandatory implementation**.\n",
    "- The code will be developed in Python, in **this Jupyter notebook**, using mainly the Keras and Tensorflow ML libraries, although some ML SciKit Learn tools can also be used, if necessary.\n",
    "- It will be commented both using **Markdown cells** and **Python block comments or inline comments**.\n",
    "- No separate report is required, the **final present notebook** will be used both to evaluate the code and to explain the purpose of each section and how the results should be analyzed.\n",
    "- Particular attention will be paid to the **organization of the notebook**: use headers, ordered or unordered list of items, tables, mathematical formulas, hyperlinks, images, ....\n",
    "- As done in the [Wine Project](https://github.com/kmspitzer/final-wineproject), **data will be cleaned and prepared**. A correlation matrix will plotted. You will do that separately for white and red wines. It could be interesting - or not -  to build a database mixing red and white wines, with a 12th descriptor for the wine color.\n",
    "- You will try either a **simple ANN** and a **deep learning approach**. In addition to the accuracy of each tested ANN architecture, a **confusion matrix** would be helpful to better assess their performance.\n",
    "- The numerical stability of the best model will be assessed using a **5-fold cross validation**.\n",
    "</div>\n"
   ]
  },
  {
   "cell_type": "markdown",
   "id": "69aaf6f8",
   "metadata": {},
   "source": [
    "### Preliminary comments"
   ]
  },
  {
   "cell_type": "markdown",
   "id": "3374f795",
   "metadata": {},
   "source": [
    "<div class=\"intro\" title=\"Preliminary Considerations\">\n",
    "I strongly advise not to re-run this notebook. Some cells are very expensive to run and it can take a lot of time. If you decide to run it anyways, the cell below will install all packages needed to run this notebook. Some of them are quite heavy and downloading them takes some time. For data preprocessing I used scikit-learn. Two linear models were built (using scikit-learn) to serve as the baseline for comparison with the neural network models. I decided to build neural networks in PyTorch and use skorch wrapper. Hyperparameters optimization was done using scikit-optimize for two linear models, and raytune for neural networks. SMOTE method of unbalanced sampling comes from imblearn library.\n",
    "</div>"
   ]
  },
  {
   "cell_type": "code",
   "execution_count": null,
   "id": "54b5a42e-cc6c-40a0-bc56-6edf4817a8dc",
   "metadata": {},
   "outputs": [],
   "source": [
    "# Run this cell to check if you have all the packages installed!\n",
    "%pip install \"numpy<1.24.0\" pandas seaborn matplotlib skorch imblearn torch scikit-learn scikit-optimize \"ray[tune]\""
   ]
  },
  {
   "cell_type": "code",
   "execution_count": 2,
   "id": "951c863a",
   "metadata": {},
   "outputs": [],
   "source": [
    "# Importing all packages that will be used in the notebook\n",
    "import numpy as np\n",
    "import seaborn as sns\n",
    "import pandas as pd\n",
    "import matplotlib.pyplot as plt\n",
    "import torch\n",
    "#import warnings\n",
    "#warnings.filterwarnings(\"ignore\")\n",
    "from sklearn.model_selection import train_test_split\n",
    "from sklearn.feature_selection import SequentialFeatureSelector\n",
    "from sklearn.preprocessing import RobustScaler\n",
    "from imblearn.pipeline import Pipeline\n",
    "from imblearn.over_sampling import SMOTE, RandomOverSampler\n",
    "from sklearn.metrics import ConfusionMatrixDisplay, balanced_accuracy_score, accuracy_score, confusion_matrix\n",
    "from skopt import BayesSearchCV\n",
    "from skopt.space import Real, Categorical, Integer\n",
    "from ray.tune.sklearn import TuneGridSearchCV\n",
    "from ray.tune.sklearn import TuneSearchCV\n",
    "from sklearn.linear_model import LogisticRegression, Ridge\n",
    "from torch import nn, manual_seed, set_default_dtype, float64, device, cuda\n",
    "torch.manual_seed(7)\n",
    "from skorch import NeuralNetClassifier, NeuralNetRegressor\n",
    "from skorch.callbacks import EarlyStopping\n",
    "pd.set_option(\"display.width\", 180)\n",
    "pd.set_option('max_colwidth', 10)"
   ]
  },
  {
   "cell_type": "code",
   "execution_count": 3,
   "id": "0f21429c-57d1-4ec4-ac0e-9978da3b9995",
   "metadata": {},
   "outputs": [],
   "source": [
    "# Reading datasets\n",
    "white_wine = pd.read_csv(\"datasets/winequality-white.csv\",delimiter=';')\n",
    "red_wine = pd.read_csv(\"datasets/winequality-red.csv\",delimiter=';')"
   ]
  },
  {
   "cell_type": "code",
   "execution_count": null,
   "id": "d001d6dd",
   "metadata": {},
   "outputs": [],
   "source": [
    "white_wine.isnull().any()"
   ]
  },
  {
   "cell_type": "code",
   "execution_count": null,
   "id": "46c8c197",
   "metadata": {},
   "outputs": [],
   "source": [
    "red_wine.isnull().any()"
   ]
  },
  {
   "cell_type": "markdown",
   "id": "d22bec09-0628-46e1-bda4-509ccbc5dca2",
   "metadata": {},
   "source": [
    "## Dataset Exploration and Visualization\n",
    "<div class=\"intro\">\n",
    "First we need to visualize features in the dataset, their types, distribution of their values, and fix potential issues, such as missing values or errors. Fortunately, this dataset is already preprocessed, so we don't have any missing values or errors. Then the features are separated from targets. Then we need to split our dataset into training and test set. Validation will be done using 5-fold stratified cross-validatio, so there is no need for validation set. This way we can train our models on more data. First we will inspect features, their distribution and correlation. The target we want to predict is score of wine quality. Discussion of the dataset and conclusions are <a href='#dataset_analysis'>here</a>\n",
    "</div>"
   ]
  },
  {
   "cell_type": "markdown",
   "id": "fd9c7731",
   "metadata": {},
   "source": [
    "#### Feature types"
   ]
  },
  {
   "cell_type": "code",
   "execution_count": null,
   "id": "65a02635",
   "metadata": {},
   "outputs": [],
   "source": [
    "white_wine.dtypes"
   ]
  },
  {
   "cell_type": "code",
   "execution_count": null,
   "id": "dd7a7c09",
   "metadata": {},
   "outputs": [],
   "source": [
    "red_wine.dtypes"
   ]
  },
  {
   "cell_type": "markdown",
   "id": "9d0b1220-2f85-4607-858b-a6ff098a87dc",
   "metadata": {},
   "source": [
    "All features have numerical values and our target is integer. Therefore we don't need to perform any type of encoding. For performance, we will cast features to float32."
   ]
  },
  {
   "cell_type": "markdown",
   "id": "31709bfc",
   "metadata": {},
   "source": [
    "#### Dataset splitting"
   ]
  },
  {
   "cell_type": "code",
   "execution_count": 4,
   "id": "00bc75d3",
   "metadata": {},
   "outputs": [],
   "source": [
    "X_white = white_wine.drop(\"quality\",axis=1).astype(np.float32)\n",
    "X_red = red_wine.drop(\"quality\",axis=1).astype(np.float32)\n",
    "Y_white = white_wine[[\"quality\"]]\n",
    "Y_red = red_wine[[\"quality\"]]\n",
    "\n",
    "test_ratio = 0.20\n",
    "x_white_train, x_white_test, y_white_train, y_white_test = train_test_split(X_white, Y_white, test_size=test_ratio,random_state=7)\n",
    "x_red_train, x_red_test, y_red_train, y_red_test = train_test_split(X_red, Y_red, test_size=test_ratio,random_state=7)\n",
    "\n",
    "features = list(x_white_train.columns)"
   ]
  },
  {
   "cell_type": "markdown",
   "id": "a949786c",
   "metadata": {},
   "source": [
    "### Summary of the training set"
   ]
  },
  {
   "cell_type": "markdown",
   "id": "cf2ff4aa",
   "metadata": {
    "jp-MarkdownHeadingCollapsed": true
   },
   "source": [
    "#### Basic statistical analysis"
   ]
  },
  {
   "cell_type": "code",
   "execution_count": null,
   "id": "dbc05e47-bfaa-4792-9c60-01a0bf54a998",
   "metadata": {},
   "outputs": [],
   "source": [
    "print(x_white_train.join(y_white_train).describe())"
   ]
  },
  {
   "cell_type": "code",
   "execution_count": null,
   "id": "f77581f1",
   "metadata": {},
   "outputs": [],
   "source": [
    "print(x_red_train.join(y_red_train).describe())"
   ]
  },
  {
   "cell_type": "markdown",
   "id": "bdf1b53a-1b88-44bf-b295-c6b8ebb165bd",
   "metadata": {},
   "source": [
    "#### Random sample from each dataset"
   ]
  },
  {
   "cell_type": "code",
   "execution_count": null,
   "id": "a4fad190-d1b5-4df4-93a5-54e7f909ad63",
   "metadata": {},
   "outputs": [],
   "source": [
    "print(x_white_train.join(y_white_train).sample(10))"
   ]
  },
  {
   "cell_type": "code",
   "execution_count": null,
   "id": "f81b8d51",
   "metadata": {},
   "outputs": [],
   "source": [
    "print(x_red_train.join(y_white_train).sample(10))"
   ]
  },
  {
   "cell_type": "markdown",
   "id": "d54bb7cf-82c2-44a2-8f3b-58f9b04e8fd6",
   "metadata": {
    "jp-MarkdownHeadingCollapsed": true
   },
   "source": [
    "#### Pairplot of features"
   ]
  },
  {
   "cell_type": "code",
   "execution_count": null,
   "id": "8afcdb65-9d4b-43d2-8e02-3a999d4c4d20",
   "metadata": {
    "editable": true,
    "slideshow": {
     "slide_type": ""
    },
    "tags": []
   },
   "outputs": [],
   "source": [
    "sns.pairplot(data=x_white_train.join(y_white_train), hue=\"quality\");"
   ]
  },
  {
   "cell_type": "code",
   "execution_count": null,
   "id": "eabff265",
   "metadata": {},
   "outputs": [],
   "source": [
    "sns.pairplot(data=x_red_train.join(y_white_train), hue=\"quality\");"
   ]
  },
  {
   "cell_type": "markdown",
   "id": "82489436",
   "metadata": {},
   "source": [
    "#### Features and target distributions"
   ]
  },
  {
   "cell_type": "code",
   "execution_count": null,
   "id": "04a8d132",
   "metadata": {},
   "outputs": [],
   "source": [
    "fig, ax = plt.subplots(ncols=6, nrows=2, figsize=(20,10))\n",
    "index = 0\n",
    "ax = ax.flatten()\n",
    "for col, value in x_white_train.join(y_white_train).items():\n",
    "    sns.histplot(value, ax=ax[index], kde=True)\n",
    "    ax[index].xaxis.set_tick_params(labelsize=8)\n",
    "    index += 1\n",
    "    \n",
    "plt.tight_layout(pad=0.5, w_pad=0.7, h_pad=5.0)"
   ]
  },
  {
   "cell_type": "code",
   "execution_count": null,
   "id": "de3dcd03",
   "metadata": {},
   "outputs": [],
   "source": [
    "fig, ax = plt.subplots(ncols=6, nrows=2, figsize=(20,10))\n",
    "index = 0\n",
    "ax = ax.flatten()\n",
    "for col, value in x_red_train.join(y_red_train).items():\n",
    "    sns.histplot(value, ax=ax[index], kde=True)\n",
    "    index += 1\n",
    "    \n",
    "plt.tight_layout(pad=0.5, w_pad=0.7, h_pad=5.0)"
   ]
  },
  {
   "cell_type": "code",
   "execution_count": null,
   "id": "2f529e1b",
   "metadata": {},
   "outputs": [],
   "source": [
    "fig, ax = plt.subplots(ncols=6, nrows=2, figsize=(20,10))\n",
    "index = 0\n",
    "ax = ax.flatten()\n",
    "for col, value in x_white_train.join(y_white_train).items():\n",
    "    sns.pointplot(x=y_white_train.squeeze(), y=value.squeeze(), ax=ax[index],hue=y_white_train.squeeze() ,legend=False)\n",
    "    ax[index].xaxis.set_tick_params(labelsize=8)\n",
    "    index += 1\n",
    "    \n",
    "plt.tight_layout(pad=0.5, w_pad=0.7, h_pad=5.0)"
   ]
  },
  {
   "cell_type": "code",
   "execution_count": null,
   "id": "ea3ad83c",
   "metadata": {},
   "outputs": [],
   "source": [
    "fig, ax = plt.subplots(ncols=6, nrows=2, figsize=(20,10))\n",
    "index = 0\n",
    "ax = ax.flatten()\n",
    "for col, value in x_red_train.join(y_red_train).items():\n",
    "    sns.pointplot(x=y_red_train.squeeze(), y=value.squeeze(), ax=ax[index],hue=y_red_train.squeeze() ,legend=False)\n",
    "    ax[index].xaxis.set_tick_params(labelsize=8)\n",
    "    index += 1\n",
    "    \n",
    "plt.tight_layout(pad=0.5, w_pad=0.7, h_pad=5.0)"
   ]
  },
  {
   "cell_type": "markdown",
   "id": "b6b68023-1bda-401f-baf2-f9293d399938",
   "metadata": {
    "editable": true,
    "slideshow": {
     "slide_type": ""
    },
    "tags": []
   },
   "source": [
    "#### Correlation Matrix"
   ]
  },
  {
   "cell_type": "code",
   "execution_count": null,
   "id": "03b04dd0-a719-4c6e-b84a-46eb86bed297",
   "metadata": {
    "editable": true,
    "slideshow": {
     "slide_type": ""
    },
    "tags": []
   },
   "outputs": [],
   "source": [
    "plt.figure(figsize = (10,8))\n",
    "sns.heatmap(x_white_train.corr(numeric_only=True), vmin = -1, vmax = +1, annot = True, cmap='coolwarm');"
   ]
  },
  {
   "cell_type": "code",
   "execution_count": null,
   "id": "a2dd2517-4b9d-425d-9f6e-a0720e0610a3",
   "metadata": {
    "editable": true,
    "slideshow": {
     "slide_type": ""
    },
    "tags": []
   },
   "outputs": [],
   "source": [
    "plt.figure(figsize = (10,8))\n",
    "sns.heatmap(x_red_train.corr(numeric_only=True), vmin = -1, vmax = +1, annot = True, cmap='coolwarm');"
   ]
  },
  {
   "cell_type": "markdown",
   "id": "e614af4e",
   "metadata": {},
   "source": [
    "## Dataset Analysis <a id='dataset_analysis'></a>"
   ]
  },
  {
   "cell_type": "markdown",
   "id": "45d669fc",
   "metadata": {},
   "source": [
    "<div class=\"rqT\" title=\"Observations\">\n",
    "\n",
    "1. The range of values features take is different for different features. Therefore, standardization of feature values must be performed. However, distributions of features are scewed due to presence of outliers.\n",
    "\n",
    "2. We can spot certain outlayers in pairplot graph. However, those can't be just discarder, as the analysis showed that most of them are from the underrepresnted quality scores.\n",
    "\n",
    "3. Wines of very good or very bad quality are not sufficiently represented in the dataset. There are very little wines with quality smaller than 4 or greater than 7. There are no red wines with quality higher than 8! Moreover, we can see that extremes in termes of quality have very widespread distribution of features (see pointplots).\n",
    "\n",
    "4. Features are generally not correlated, with one important exception for white wines: density is highly correlated with residual sugar and alcohol features.\n",
    "\n",
    "</div>"
   ]
  },
  {
   "cell_type": "markdown",
   "id": "162e6932",
   "metadata": {},
   "source": [
    "### Conclusions and decisions about models\n",
    "<div class=\"rqT\">\n",
    "    \n",
    "1. <a href=\"https://scikit-learn.org/stable/modules/generated/sklearn.preprocessing.RobustScaler.html\"> RobustScaler </a> from scikit-learn library will be used to scale the features, as it's more robust for cases where we have a lot of outliers in the distribution.\n",
    "2. Outliers will not be removed, as many of them belond to the underrepresented class.\n",
    "3. Dataset will be augmented using  <a href=\"https://imbalanced-learn.org/stable/references/generated/imblearn.over_sampling.SMOTE.html\"> SMOTE </a> technique for imbalanced datasets.\n",
    "4. As we have only 11 features, and almost all of them show little correlation, there is no need for feature selection. We will keep all features.\n",
    "</div>\n",
    "\n",
    "<div class=\"intro\" >\n",
    "Our target is the quality score, an integer from 0-10. This is a problem of ordinal classification. The simplest approach would be to use any multi-label classification algorithm, such as multinomial logistic regression (also known as softmax regression) with negative log likelihood loss. However, this doesn't take into account order of labels. For instance, missclassifying wine of quality 8 as 1 is penalized the same was as missclassifiying it as 6. However, we would like to punish more the mistakes that are further away from the true value. Therefore, the imporeved model would use regression with mean square error as the loss function. The prediction would then be computed in a separate step, rounding output of the model to the nearest integer. I will test two linear models and two neural networks.\n",
    "</div>\n",
    "\n",
    "<div class=\"rqT\" title=\"Models\">\n",
    "\n",
    "1. Two linear models, implemented in sckit-learn:\n",
    "* Linear Logistic Regressor\n",
    "* Linear Ridge Regressor\n",
    "2. Two ANN models implemented in PyTorch:\n",
    "* Neural Net Classifier\n",
    "* Neural Net Regeressor\n",
    "\n",
    "The first two models will be used as a baseline to compare other two models. Hyperparameters for all models will be optimized using 5-fold cross validation. Finally, Each model will be evaluated on the test set. Accuracy and confusion matrices will be calculated.\n",
    "</div>"
   ]
  },
  {
   "cell_type": "markdown",
   "id": "2ce523fd",
   "metadata": {},
   "source": [
    "## Bulding models"
   ]
  },
  {
   "cell_type": "markdown",
   "id": "18eab194",
   "metadata": {},
   "source": [
    "### Linear Ridge Regression for ordinal classification\n",
    "For linear regression model, I opted for <a href=\"https://scikit-learn.org/stable/modules/generated/sklearn.linear_model.Ridge.html\">Ridge model</a>. It's relatively simple model with only one regularization parameters that punishes the size of coefficient in linear regression."
   ]
  },
  {
   "cell_type": "code",
   "execution_count": 12,
   "id": "314c0ba3",
   "metadata": {},
   "outputs": [],
   "source": [
    "# Modifying regression so it can compute integer wine quality score\n",
    "class OrdinalRegressionClassifier(Ridge):\n",
    "    def decision_function(self,X):\n",
    "        return np.round(super().predict(X))\n",
    "\n",
    "model1_red = Pipeline([(\"scaler\",RobustScaler()),\n",
    "                 (\"data_augmentation\",SMOTE(random_state=7,)),\n",
    "                 (\"regressor\",OrdinalRegressionClassifier(random_state=7,alpha=23)),\n",
    "                 ])\n",
    "model1_white = Pipeline([(\"scaler\",RobustScaler()),\n",
    "                 (\"data_augmentation\",SMOTE(random_state=7,k_neighbors=3)),\n",
    "                 (\"regressor\",OrdinalRegressionClassifier(random_state=7,alpha=25.36)),\n",
    "                 ])\n",
    "param_grid1 = [\n",
    "  {\n",
    "  'data_augmentation' : Categorical(['passthrough']),\n",
    "  'regressor__alpha' : Real(1e-1, 1e+3, prior='log-uniform'),\n",
    "  },\n",
    " ]"
   ]
  },
  {
   "cell_type": "markdown",
   "metadata": {},
   "source": [
    "<div class=\"intro\">\n",
    "Because the training data is unbalanced, hyperparameter optimization will always prefer not to augment data because we are using negative MSE as the scoring function. However, if we are interested in find only excellent wines from the group of wines, this is not the metric we want to optimize. Because of that, I will test an additional model trained on augemnted dataset for each model.\n",
    "</div>"
   ]
  },
  {
   "cell_type": "markdown",
   "metadata": {},
   "source": [
    "<div class=\"rqT\" title=\"Side note\">\n",
    "White dataset has\n",
    "</div>"
   ]
  },
  {
   "cell_type": "code",
   "execution_count": 13,
   "id": "514042de",
   "metadata": {},
   "outputs": [
    {
     "data": {
      "text/html": [
       "<style>#sk-container-id-3 {color: black;}#sk-container-id-3 pre{padding: 0;}#sk-container-id-3 div.sk-toggleable {background-color: white;}#sk-container-id-3 label.sk-toggleable__label {cursor: pointer;display: block;width: 100%;margin-bottom: 0;padding: 0.3em;box-sizing: border-box;text-align: center;}#sk-container-id-3 label.sk-toggleable__label-arrow:before {content: \"▸\";float: left;margin-right: 0.25em;color: #696969;}#sk-container-id-3 label.sk-toggleable__label-arrow:hover:before {color: black;}#sk-container-id-3 div.sk-estimator:hover label.sk-toggleable__label-arrow:before {color: black;}#sk-container-id-3 div.sk-toggleable__content {max-height: 0;max-width: 0;overflow: hidden;text-align: left;background-color: #f0f8ff;}#sk-container-id-3 div.sk-toggleable__content pre {margin: 0.2em;color: black;border-radius: 0.25em;background-color: #f0f8ff;}#sk-container-id-3 input.sk-toggleable__control:checked~div.sk-toggleable__content {max-height: 200px;max-width: 100%;overflow: auto;}#sk-container-id-3 input.sk-toggleable__control:checked~label.sk-toggleable__label-arrow:before {content: \"▾\";}#sk-container-id-3 div.sk-estimator input.sk-toggleable__control:checked~label.sk-toggleable__label {background-color: #d4ebff;}#sk-container-id-3 div.sk-label input.sk-toggleable__control:checked~label.sk-toggleable__label {background-color: #d4ebff;}#sk-container-id-3 input.sk-hidden--visually {border: 0;clip: rect(1px 1px 1px 1px);clip: rect(1px, 1px, 1px, 1px);height: 1px;margin: -1px;overflow: hidden;padding: 0;position: absolute;width: 1px;}#sk-container-id-3 div.sk-estimator {font-family: monospace;background-color: #f0f8ff;border: 1px dotted black;border-radius: 0.25em;box-sizing: border-box;margin-bottom: 0.5em;}#sk-container-id-3 div.sk-estimator:hover {background-color: #d4ebff;}#sk-container-id-3 div.sk-parallel-item::after {content: \"\";width: 100%;border-bottom: 1px solid gray;flex-grow: 1;}#sk-container-id-3 div.sk-label:hover label.sk-toggleable__label {background-color: #d4ebff;}#sk-container-id-3 div.sk-serial::before {content: \"\";position: absolute;border-left: 1px solid gray;box-sizing: border-box;top: 0;bottom: 0;left: 50%;z-index: 0;}#sk-container-id-3 div.sk-serial {display: flex;flex-direction: column;align-items: center;background-color: white;padding-right: 0.2em;padding-left: 0.2em;position: relative;}#sk-container-id-3 div.sk-item {position: relative;z-index: 1;}#sk-container-id-3 div.sk-parallel {display: flex;align-items: stretch;justify-content: center;background-color: white;position: relative;}#sk-container-id-3 div.sk-item::before, #sk-container-id-3 div.sk-parallel-item::before {content: \"\";position: absolute;border-left: 1px solid gray;box-sizing: border-box;top: 0;bottom: 0;left: 50%;z-index: -1;}#sk-container-id-3 div.sk-parallel-item {display: flex;flex-direction: column;z-index: 1;position: relative;background-color: white;}#sk-container-id-3 div.sk-parallel-item:first-child::after {align-self: flex-end;width: 50%;}#sk-container-id-3 div.sk-parallel-item:last-child::after {align-self: flex-start;width: 50%;}#sk-container-id-3 div.sk-parallel-item:only-child::after {width: 0;}#sk-container-id-3 div.sk-dashed-wrapped {border: 1px dashed gray;margin: 0 0.4em 0.5em 0.4em;box-sizing: border-box;padding-bottom: 0.4em;background-color: white;}#sk-container-id-3 div.sk-label label {font-family: monospace;font-weight: bold;display: inline-block;line-height: 1.2em;}#sk-container-id-3 div.sk-label-container {text-align: center;}#sk-container-id-3 div.sk-container {/* jupyter's `normalize.less` sets `[hidden] { display: none; }` but bootstrap.min.css set `[hidden] { display: none !important; }` so we also need the `!important` here to be able to override the default hidden behavior on the sphinx rendered scikit-learn.org. See: https://github.com/scikit-learn/scikit-learn/issues/21755 */display: inline-block !important;position: relative;}#sk-container-id-3 div.sk-text-repr-fallback {display: none;}</style><div id=\"sk-container-id-3\" class=\"sk-top-container\"><div class=\"sk-text-repr-fallback\"><pre>BayesSearchCV(estimator=Pipeline(steps=[(&#x27;scaler&#x27;, RobustScaler()),\n",
       "                                        (&#x27;data_augmentation&#x27;,\n",
       "                                         SMOTE(k_neighbors=3, random_state=7)),\n",
       "                                        (&#x27;regressor&#x27;,\n",
       "                                         OrdinalRegressionClassifier(alpha=25.36,\n",
       "                                                                     random_state=7))]),\n",
       "              random_state=7, scoring=&#x27;neg_mean_squared_error&#x27;,\n",
       "              search_spaces=[{&#x27;data_augmentation&#x27;: Categorical(categories=(&#x27;passthrough&#x27;,), prior=None),\n",
       "                              &#x27;regressor__alpha&#x27;: Real(low=0.1, high=1000.0, prior=&#x27;log-uniform&#x27;, transform=&#x27;normalize&#x27;)}])</pre><b>In a Jupyter environment, please rerun this cell to show the HTML representation or trust the notebook. <br />On GitHub, the HTML representation is unable to render, please try loading this page with nbviewer.org.</b></div><div class=\"sk-container\" hidden><div class=\"sk-item sk-dashed-wrapped\"><div class=\"sk-label-container\"><div class=\"sk-label sk-toggleable\"><input class=\"sk-toggleable__control sk-hidden--visually\" id=\"sk-estimator-id-10\" type=\"checkbox\" ><label for=\"sk-estimator-id-10\" class=\"sk-toggleable__label sk-toggleable__label-arrow\">BayesSearchCV</label><div class=\"sk-toggleable__content\"><pre>BayesSearchCV(estimator=Pipeline(steps=[(&#x27;scaler&#x27;, RobustScaler()),\n",
       "                                        (&#x27;data_augmentation&#x27;,\n",
       "                                         SMOTE(k_neighbors=3, random_state=7)),\n",
       "                                        (&#x27;regressor&#x27;,\n",
       "                                         OrdinalRegressionClassifier(alpha=25.36,\n",
       "                                                                     random_state=7))]),\n",
       "              random_state=7, scoring=&#x27;neg_mean_squared_error&#x27;,\n",
       "              search_spaces=[{&#x27;data_augmentation&#x27;: Categorical(categories=(&#x27;passthrough&#x27;,), prior=None),\n",
       "                              &#x27;regressor__alpha&#x27;: Real(low=0.1, high=1000.0, prior=&#x27;log-uniform&#x27;, transform=&#x27;normalize&#x27;)}])</pre></div></div></div><div class=\"sk-parallel\"><div class=\"sk-parallel-item\"><div class=\"sk-item\"><div class=\"sk-label-container\"><div class=\"sk-label sk-toggleable\"><input class=\"sk-toggleable__control sk-hidden--visually\" id=\"sk-estimator-id-11\" type=\"checkbox\" ><label for=\"sk-estimator-id-11\" class=\"sk-toggleable__label sk-toggleable__label-arrow\">estimator: Pipeline</label><div class=\"sk-toggleable__content\"><pre>Pipeline(steps=[(&#x27;scaler&#x27;, RobustScaler()),\n",
       "                (&#x27;data_augmentation&#x27;, SMOTE(k_neighbors=3, random_state=7)),\n",
       "                (&#x27;regressor&#x27;,\n",
       "                 OrdinalRegressionClassifier(alpha=25.36, random_state=7))])</pre></div></div></div><div class=\"sk-serial\"><div class=\"sk-item\"><div class=\"sk-serial\"><div class=\"sk-item\"><div class=\"sk-estimator sk-toggleable\"><input class=\"sk-toggleable__control sk-hidden--visually\" id=\"sk-estimator-id-12\" type=\"checkbox\" ><label for=\"sk-estimator-id-12\" class=\"sk-toggleable__label sk-toggleable__label-arrow\">RobustScaler</label><div class=\"sk-toggleable__content\"><pre>RobustScaler()</pre></div></div></div><div class=\"sk-item\"><div class=\"sk-estimator sk-toggleable\"><input class=\"sk-toggleable__control sk-hidden--visually\" id=\"sk-estimator-id-13\" type=\"checkbox\" ><label for=\"sk-estimator-id-13\" class=\"sk-toggleable__label sk-toggleable__label-arrow\">SMOTE</label><div class=\"sk-toggleable__content\"><pre>SMOTE(k_neighbors=3, random_state=7)</pre></div></div></div><div class=\"sk-item\"><div class=\"sk-estimator sk-toggleable\"><input class=\"sk-toggleable__control sk-hidden--visually\" id=\"sk-estimator-id-14\" type=\"checkbox\" ><label for=\"sk-estimator-id-14\" class=\"sk-toggleable__label sk-toggleable__label-arrow\">OrdinalRegressionClassifier</label><div class=\"sk-toggleable__content\"><pre>OrdinalRegressionClassifier(alpha=25.36, random_state=7)</pre></div></div></div></div></div></div></div></div></div></div></div></div>"
      ],
      "text/plain": [
       "BayesSearchCV(estimator=Pipeline(steps=[('scaler', RobustScaler()),\n",
       "                                        ('data_augmentation',\n",
       "                                         SMOTE(k_neighbors=3, random_state=7)),\n",
       "                                        ('regressor',\n",
       "                                         OrdinalRegressionClassifier(alpha=25.36,\n",
       "                                                                     random_state=7))]),\n",
       "              random_state=7, scoring='neg_mean_squared_error',\n",
       "              search_spaces=[{'data_augmentation': Categorical(categories=('passthrough',), prior=None),\n",
       "                              'regressor__alpha': Real(low=0.1, high=1000.0, prior='log-uniform', transform='normalize')}])"
      ]
     },
     "execution_count": 13,
     "metadata": {},
     "output_type": "execute_result"
    }
   ],
   "source": [
    "hiperparam_opt1_red = BayesSearchCV(\n",
    "    model1_red, search_spaces=param_grid1, scoring='neg_mean_squared_error', random_state=7,\n",
    ")\n",
    "hiperparam_opt1_white = BayesSearchCV(\n",
    "    model1_white, search_spaces=param_grid1, scoring='neg_mean_squared_error', random_state=7,\n",
    ")\n",
    "hiperparam_opt1_red.fit(x_red_train, y_red_train)\n",
    "hiperparam_opt1_white.fit(x_white_train, y_white_train)"
   ]
  },
  {
   "cell_type": "code",
   "execution_count": 14,
   "id": "991f102d",
   "metadata": {},
   "outputs": [
    {
     "name": "stdout",
     "output_type": "stream",
     "text": [
      "OrderedDict([('data_augmentation', 'passthrough'), ('regressor__alpha', 25.361493115218128)])\n",
      "OrderedDict([('data_augmentation', 'passthrough'), ('regressor__alpha', 23.00636239962104)])\n"
     ]
    }
   ],
   "source": [
    "print(hiperparam_opt1_white.best_params_)\n",
    "print(hiperparam_opt1_red.best_params_)"
   ]
  },
  {
   "cell_type": "code",
   "execution_count": 9,
   "id": "6028bd8f-16b7-4086-83ad-e9c530d8b28d",
   "metadata": {},
   "outputs": [
    {
     "data": {
      "text/html": [
       "<style>#sk-container-id-2 {color: black;}#sk-container-id-2 pre{padding: 0;}#sk-container-id-2 div.sk-toggleable {background-color: white;}#sk-container-id-2 label.sk-toggleable__label {cursor: pointer;display: block;width: 100%;margin-bottom: 0;padding: 0.3em;box-sizing: border-box;text-align: center;}#sk-container-id-2 label.sk-toggleable__label-arrow:before {content: \"▸\";float: left;margin-right: 0.25em;color: #696969;}#sk-container-id-2 label.sk-toggleable__label-arrow:hover:before {color: black;}#sk-container-id-2 div.sk-estimator:hover label.sk-toggleable__label-arrow:before {color: black;}#sk-container-id-2 div.sk-toggleable__content {max-height: 0;max-width: 0;overflow: hidden;text-align: left;background-color: #f0f8ff;}#sk-container-id-2 div.sk-toggleable__content pre {margin: 0.2em;color: black;border-radius: 0.25em;background-color: #f0f8ff;}#sk-container-id-2 input.sk-toggleable__control:checked~div.sk-toggleable__content {max-height: 200px;max-width: 100%;overflow: auto;}#sk-container-id-2 input.sk-toggleable__control:checked~label.sk-toggleable__label-arrow:before {content: \"▾\";}#sk-container-id-2 div.sk-estimator input.sk-toggleable__control:checked~label.sk-toggleable__label {background-color: #d4ebff;}#sk-container-id-2 div.sk-label input.sk-toggleable__control:checked~label.sk-toggleable__label {background-color: #d4ebff;}#sk-container-id-2 input.sk-hidden--visually {border: 0;clip: rect(1px 1px 1px 1px);clip: rect(1px, 1px, 1px, 1px);height: 1px;margin: -1px;overflow: hidden;padding: 0;position: absolute;width: 1px;}#sk-container-id-2 div.sk-estimator {font-family: monospace;background-color: #f0f8ff;border: 1px dotted black;border-radius: 0.25em;box-sizing: border-box;margin-bottom: 0.5em;}#sk-container-id-2 div.sk-estimator:hover {background-color: #d4ebff;}#sk-container-id-2 div.sk-parallel-item::after {content: \"\";width: 100%;border-bottom: 1px solid gray;flex-grow: 1;}#sk-container-id-2 div.sk-label:hover label.sk-toggleable__label {background-color: #d4ebff;}#sk-container-id-2 div.sk-serial::before {content: \"\";position: absolute;border-left: 1px solid gray;box-sizing: border-box;top: 0;bottom: 0;left: 50%;z-index: 0;}#sk-container-id-2 div.sk-serial {display: flex;flex-direction: column;align-items: center;background-color: white;padding-right: 0.2em;padding-left: 0.2em;position: relative;}#sk-container-id-2 div.sk-item {position: relative;z-index: 1;}#sk-container-id-2 div.sk-parallel {display: flex;align-items: stretch;justify-content: center;background-color: white;position: relative;}#sk-container-id-2 div.sk-item::before, #sk-container-id-2 div.sk-parallel-item::before {content: \"\";position: absolute;border-left: 1px solid gray;box-sizing: border-box;top: 0;bottom: 0;left: 50%;z-index: -1;}#sk-container-id-2 div.sk-parallel-item {display: flex;flex-direction: column;z-index: 1;position: relative;background-color: white;}#sk-container-id-2 div.sk-parallel-item:first-child::after {align-self: flex-end;width: 50%;}#sk-container-id-2 div.sk-parallel-item:last-child::after {align-self: flex-start;width: 50%;}#sk-container-id-2 div.sk-parallel-item:only-child::after {width: 0;}#sk-container-id-2 div.sk-dashed-wrapped {border: 1px dashed gray;margin: 0 0.4em 0.5em 0.4em;box-sizing: border-box;padding-bottom: 0.4em;background-color: white;}#sk-container-id-2 div.sk-label label {font-family: monospace;font-weight: bold;display: inline-block;line-height: 1.2em;}#sk-container-id-2 div.sk-label-container {text-align: center;}#sk-container-id-2 div.sk-container {/* jupyter's `normalize.less` sets `[hidden] { display: none; }` but bootstrap.min.css set `[hidden] { display: none !important; }` so we also need the `!important` here to be able to override the default hidden behavior on the sphinx rendered scikit-learn.org. See: https://github.com/scikit-learn/scikit-learn/issues/21755 */display: inline-block !important;position: relative;}#sk-container-id-2 div.sk-text-repr-fallback {display: none;}</style><div id=\"sk-container-id-2\" class=\"sk-top-container\"><div class=\"sk-text-repr-fallback\"><pre>Pipeline(steps=[(&#x27;scaler&#x27;, RobustScaler()),\n",
       "                (&#x27;data_augmentation&#x27;, SMOTE(random_state=7)),\n",
       "                (&#x27;regressor&#x27;,\n",
       "                 OrdinalRegressionClassifier(alpha=26.12, random_state=7))])</pre><b>In a Jupyter environment, please rerun this cell to show the HTML representation or trust the notebook. <br />On GitHub, the HTML representation is unable to render, please try loading this page with nbviewer.org.</b></div><div class=\"sk-container\" hidden><div class=\"sk-item sk-dashed-wrapped\"><div class=\"sk-label-container\"><div class=\"sk-label sk-toggleable\"><input class=\"sk-toggleable__control sk-hidden--visually\" id=\"sk-estimator-id-6\" type=\"checkbox\" ><label for=\"sk-estimator-id-6\" class=\"sk-toggleable__label sk-toggleable__label-arrow\">Pipeline</label><div class=\"sk-toggleable__content\"><pre>Pipeline(steps=[(&#x27;scaler&#x27;, RobustScaler()),\n",
       "                (&#x27;data_augmentation&#x27;, SMOTE(random_state=7)),\n",
       "                (&#x27;regressor&#x27;,\n",
       "                 OrdinalRegressionClassifier(alpha=26.12, random_state=7))])</pre></div></div></div><div class=\"sk-serial\"><div class=\"sk-item\"><div class=\"sk-estimator sk-toggleable\"><input class=\"sk-toggleable__control sk-hidden--visually\" id=\"sk-estimator-id-7\" type=\"checkbox\" ><label for=\"sk-estimator-id-7\" class=\"sk-toggleable__label sk-toggleable__label-arrow\">RobustScaler</label><div class=\"sk-toggleable__content\"><pre>RobustScaler()</pre></div></div></div><div class=\"sk-item\"><div class=\"sk-estimator sk-toggleable\"><input class=\"sk-toggleable__control sk-hidden--visually\" id=\"sk-estimator-id-8\" type=\"checkbox\" ><label for=\"sk-estimator-id-8\" class=\"sk-toggleable__label sk-toggleable__label-arrow\">SMOTE</label><div class=\"sk-toggleable__content\"><pre>SMOTE(random_state=7)</pre></div></div></div><div class=\"sk-item\"><div class=\"sk-estimator sk-toggleable\"><input class=\"sk-toggleable__control sk-hidden--visually\" id=\"sk-estimator-id-9\" type=\"checkbox\" ><label for=\"sk-estimator-id-9\" class=\"sk-toggleable__label sk-toggleable__label-arrow\">OrdinalRegressionClassifier</label><div class=\"sk-toggleable__content\"><pre>OrdinalRegressionClassifier(alpha=26.12, random_state=7)</pre></div></div></div></div></div></div></div>"
      ],
      "text/plain": [
       "Pipeline(steps=[('scaler', RobustScaler()),\n",
       "                ('data_augmentation', SMOTE(random_state=7)),\n",
       "                ('regressor',\n",
       "                 OrdinalRegressionClassifier(alpha=26.12, random_state=7))])"
      ]
     },
     "execution_count": 9,
     "metadata": {},
     "output_type": "execute_result"
    }
   ],
   "source": [
    "model1_white.fit(x_white_train,y_white_train)\n",
    "model1_red.fit(x_red_train,y_red_train)"
   ]
  },
  {
   "cell_type": "code",
   "execution_count": 78,
   "id": "14b8539a",
   "metadata": {},
   "outputs": [
    {
     "data": {
      "image/png": "[encoded data removed]",
      "text/plain": [
       "<Figure size 640x480 with 2 Axes>"
      ]
     },
     "metadata": {},
     "output_type": "display_data"
    }
   ],
   "source": [
    "Y_predict1_white = model1_white.decision_function(x_white_test)\n",
    "ConfusionMatrixDisplay.from_predictions(y_white_test,Y_predict1_white,labels=[3,4,5,6,7,8,9],normalize='true');"
   ]
  },
  {
   "cell_type": "code",
   "execution_count": 80,
   "id": "34b67b83",
   "metadata": {},
   "outputs": [
    {
     "name": "stdout",
     "output_type": "stream",
     "text": [
      "0.2329710621690571\n",
      "0.4010204081632653\n"
     ]
    },
    {
     "name": "stderr",
     "output_type": "stream",
     "text": [
      "/home/zarko/TCCM/lib/python3.10/site-packages/sklearn/metrics/_classification.py:2394: UserWarning: y_pred contains classes not in y_true\n",
      "  warnings.warn(\"y_pred contains classes not in y_true\")\n"
     ]
    }
   ],
   "source": [
    "print(balanced_accuracy_score(y_white_test,Y_predict1_white))\n",
    "print(accuracy_score(y_white_test,Y_predict1_white))"
   ]
  },
  {
   "cell_type": "markdown",
   "id": "65c3e4b6",
   "metadata": {},
   "source": [
    "### Linear logistic regression for ordinal classification"
   ]
  },
  {
   "cell_type": "code",
   "execution_count": 31,
   "id": "9cb17753",
   "metadata": {},
   "outputs": [],
   "source": [
    "model2_white = Pipeline([(\"scaler\",RobustScaler()),\n",
    "                 (\"data_augmentation\",SMOTE(random_state=7,k_neighbors=3)),\n",
    "                 (\"regressor\",LogisticRegression(multi_class='multinomial',\n",
    "                                                 class_weight='balanced',\n",
    "                                                 C=1e-1,\n",
    "                                                 max_iter=1000,\n",
    "                                                 solver='newton-cg',\n",
    "                                                 random_state=7)),\n",
    "                 ])\n",
    "model2_red = Pipeline([(\"scaler\",RobustScaler()),\n",
    "                 (\"data_augmentation\",SMOTE(random_state=7)),\n",
    "                 (\"regressor\",LogisticRegression(multi_class='multinomial',\n",
    "                                                 class_weight='balanced',\n",
    "                                                 C=1e-1,\n",
    "                                                 max_iter=1000,\n",
    "                                                 solver='newton-cg',\n",
    "                                                 random_state=7)),\n",
    "                 ])\n",
    "param_grid2 = [\n",
    "  {\n",
    "   'data_augmentation' : Categorical(['passthrough']),\n",
    "   'regressor__C': Real(1e0, 1e+1, prior='log-uniform'),\n",
    "   },\n",
    " ]"
   ]
  },
  {
   "cell_type": "code",
   "execution_count": 33,
   "id": "468a736a",
   "metadata": {},
   "outputs": [
    {
     "name": "stderr",
     "output_type": "stream",
     "text": [
      "/home/zarko/TCCM/lib/python3.10/site-packages/scipy/optimize/_linesearch.py:314: LineSearchWarning: The line search algorithm did not converge\n",
      "  warn('The line search algorithm did not converge', LineSearchWarning)\n",
      "/home/zarko/TCCM/lib/python3.10/site-packages/sklearn/utils/optimize.py:204: UserWarning: Line Search failed\n",
      "  warnings.warn(\"Line Search failed\")\n",
      "/home/zarko/TCCM/lib/python3.10/site-packages/scipy/optimize/_linesearch.py:314: LineSearchWarning: The line search algorithm did not converge\n",
      "  warn('The line search algorithm did not converge', LineSearchWarning)\n",
      "/home/zarko/TCCM/lib/python3.10/site-packages/sklearn/utils/optimize.py:204: UserWarning: Line Search failed\n",
      "  warnings.warn(\"Line Search failed\")\n",
      "/home/zarko/TCCM/lib/python3.10/site-packages/scipy/optimize/_linesearch.py:314: LineSearchWarning: The line search algorithm did not converge\n",
      "  warn('The line search algorithm did not converge', LineSearchWarning)\n",
      "/home/zarko/TCCM/lib/python3.10/site-packages/sklearn/utils/optimize.py:204: UserWarning: Line Search failed\n",
      "  warnings.warn(\"Line Search failed\")\n",
      "/home/zarko/TCCM/lib/python3.10/site-packages/scipy/optimize/_linesearch.py:314: LineSearchWarning: The line search algorithm did not converge\n",
      "  warn('The line search algorithm did not converge', LineSearchWarning)\n",
      "/home/zarko/TCCM/lib/python3.10/site-packages/sklearn/utils/optimize.py:204: UserWarning: Line Search failed\n",
      "  warnings.warn(\"Line Search failed\")\n",
      "/home/zarko/TCCM/lib/python3.10/site-packages/scipy/optimize/_linesearch.py:314: LineSearchWarning: The line search algorithm did not converge\n",
      "  warn('The line search algorithm did not converge', LineSearchWarning)\n",
      "/home/zarko/TCCM/lib/python3.10/site-packages/sklearn/utils/optimize.py:204: UserWarning: Line Search failed\n",
      "  warnings.warn(\"Line Search failed\")\n",
      "/home/zarko/TCCM/lib/python3.10/site-packages/scipy/optimize/_linesearch.py:314: LineSearchWarning: The line search algorithm did not converge\n",
      "  warn('The line search algorithm did not converge', LineSearchWarning)\n",
      "/home/zarko/TCCM/lib/python3.10/site-packages/sklearn/utils/optimize.py:204: UserWarning: Line Search failed\n",
      "  warnings.warn(\"Line Search failed\")\n",
      "/home/zarko/TCCM/lib/python3.10/site-packages/scipy/optimize/_linesearch.py:314: LineSearchWarning: The line search algorithm did not converge\n",
      "  warn('The line search algorithm did not converge', LineSearchWarning)\n",
      "/home/zarko/TCCM/lib/python3.10/site-packages/sklearn/utils/optimize.py:204: UserWarning: Line Search failed\n",
      "  warnings.warn(\"Line Search failed\")\n",
      "/home/zarko/TCCM/lib/python3.10/site-packages/scipy/optimize/_linesearch.py:314: LineSearchWarning: The line search algorithm did not converge\n",
      "  warn('The line search algorithm did not converge', LineSearchWarning)\n",
      "/home/zarko/TCCM/lib/python3.10/site-packages/sklearn/utils/optimize.py:204: UserWarning: Line Search failed\n",
      "  warnings.warn(\"Line Search failed\")\n",
      "/home/zarko/TCCM/lib/python3.10/site-packages/scipy/optimize/_linesearch.py:314: LineSearchWarning: The line search algorithm did not converge\n",
      "  warn('The line search algorithm did not converge', LineSearchWarning)\n",
      "/home/zarko/TCCM/lib/python3.10/site-packages/sklearn/utils/optimize.py:204: UserWarning: Line Search failed\n",
      "  warnings.warn(\"Line Search failed\")\n",
      "/home/zarko/TCCM/lib/python3.10/site-packages/scipy/optimize/_linesearch.py:314: LineSearchWarning: The line search algorithm did not converge\n",
      "  warn('The line search algorithm did not converge', LineSearchWarning)\n",
      "/home/zarko/TCCM/lib/python3.10/site-packages/sklearn/utils/optimize.py:204: UserWarning: Line Search failed\n",
      "  warnings.warn(\"Line Search failed\")\n",
      "/home/zarko/TCCM/lib/python3.10/site-packages/scipy/optimize/_linesearch.py:314: LineSearchWarning: The line search algorithm did not converge\n",
      "  warn('The line search algorithm did not converge', LineSearchWarning)\n",
      "/home/zarko/TCCM/lib/python3.10/site-packages/sklearn/utils/optimize.py:204: UserWarning: Line Search failed\n",
      "  warnings.warn(\"Line Search failed\")\n",
      "/home/zarko/TCCM/lib/python3.10/site-packages/scipy/optimize/_linesearch.py:314: LineSearchWarning: The line search algorithm did not converge\n",
      "  warn('The line search algorithm did not converge', LineSearchWarning)\n",
      "/home/zarko/TCCM/lib/python3.10/site-packages/sklearn/utils/optimize.py:204: UserWarning: Line Search failed\n",
      "  warnings.warn(\"Line Search failed\")\n",
      "/home/zarko/TCCM/lib/python3.10/site-packages/scipy/optimize/_linesearch.py:314: LineSearchWarning: The line search algorithm did not converge\n",
      "  warn('The line search algorithm did not converge', LineSearchWarning)\n",
      "/home/zarko/TCCM/lib/python3.10/site-packages/sklearn/utils/optimize.py:204: UserWarning: Line Search failed\n",
      "  warnings.warn(\"Line Search failed\")\n",
      "/home/zarko/TCCM/lib/python3.10/site-packages/scipy/optimize/_linesearch.py:314: LineSearchWarning: The line search algorithm did not converge\n",
      "  warn('The line search algorithm did not converge', LineSearchWarning)\n",
      "/home/zarko/TCCM/lib/python3.10/site-packages/sklearn/utils/optimize.py:204: UserWarning: Line Search failed\n",
      "  warnings.warn(\"Line Search failed\")\n",
      "/home/zarko/TCCM/lib/python3.10/site-packages/scipy/optimize/_linesearch.py:314: LineSearchWarning: The line search algorithm did not converge\n",
      "  warn('The line search algorithm did not converge', LineSearchWarning)\n",
      "/home/zarko/TCCM/lib/python3.10/site-packages/sklearn/utils/optimize.py:204: UserWarning: Line Search failed\n",
      "  warnings.warn(\"Line Search failed\")\n",
      "/home/zarko/TCCM/lib/python3.10/site-packages/scipy/optimize/_linesearch.py:314: LineSearchWarning: The line search algorithm did not converge\n",
      "  warn('The line search algorithm did not converge', LineSearchWarning)\n",
      "/home/zarko/TCCM/lib/python3.10/site-packages/sklearn/utils/optimize.py:204: UserWarning: Line Search failed\n",
      "  warnings.warn(\"Line Search failed\")\n",
      "/home/zarko/TCCM/lib/python3.10/site-packages/scipy/optimize/_linesearch.py:314: LineSearchWarning: The line search algorithm did not converge\n",
      "  warn('The line search algorithm did not converge', LineSearchWarning)\n",
      "/home/zarko/TCCM/lib/python3.10/site-packages/sklearn/utils/optimize.py:204: UserWarning: Line Search failed\n",
      "  warnings.warn(\"Line Search failed\")\n",
      "/home/zarko/TCCM/lib/python3.10/site-packages/scipy/optimize/_linesearch.py:314: LineSearchWarning: The line search algorithm did not converge\n",
      "  warn('The line search algorithm did not converge', LineSearchWarning)\n",
      "/home/zarko/TCCM/lib/python3.10/site-packages/sklearn/utils/optimize.py:204: UserWarning: Line Search failed\n",
      "  warnings.warn(\"Line Search failed\")\n",
      "/home/zarko/TCCM/lib/python3.10/site-packages/scipy/optimize/_linesearch.py:314: LineSearchWarning: The line search algorithm did not converge\n",
      "  warn('The line search algorithm did not converge', LineSearchWarning)\n",
      "/home/zarko/TCCM/lib/python3.10/site-packages/sklearn/utils/optimize.py:204: UserWarning: Line Search failed\n",
      "  warnings.warn(\"Line Search failed\")\n",
      "/home/zarko/TCCM/lib/python3.10/site-packages/scipy/optimize/_linesearch.py:314: LineSearchWarning: The line search algorithm did not converge\n",
      "  warn('The line search algorithm did not converge', LineSearchWarning)\n",
      "/home/zarko/TCCM/lib/python3.10/site-packages/sklearn/utils/optimize.py:204: UserWarning: Line Search failed\n",
      "  warnings.warn(\"Line Search failed\")\n",
      "/home/zarko/TCCM/lib/python3.10/site-packages/scipy/optimize/_linesearch.py:314: LineSearchWarning: The line search algorithm did not converge\n",
      "  warn('The line search algorithm did not converge', LineSearchWarning)\n",
      "/home/zarko/TCCM/lib/python3.10/site-packages/sklearn/utils/optimize.py:204: UserWarning: Line Search failed\n",
      "  warnings.warn(\"Line Search failed\")\n",
      "/home/zarko/TCCM/lib/python3.10/site-packages/scipy/optimize/_linesearch.py:314: LineSearchWarning: The line search algorithm did not converge\n",
      "  warn('The line search algorithm did not converge', LineSearchWarning)\n",
      "/home/zarko/TCCM/lib/python3.10/site-packages/sklearn/utils/optimize.py:204: UserWarning: Line Search failed\n",
      "  warnings.warn(\"Line Search failed\")\n",
      "/home/zarko/TCCM/lib/python3.10/site-packages/scipy/optimize/_linesearch.py:314: LineSearchWarning: The line search algorithm did not converge\n",
      "  warn('The line search algorithm did not converge', LineSearchWarning)\n",
      "/home/zarko/TCCM/lib/python3.10/site-packages/sklearn/utils/optimize.py:204: UserWarning: Line Search failed\n",
      "  warnings.warn(\"Line Search failed\")\n",
      "/home/zarko/TCCM/lib/python3.10/site-packages/scipy/optimize/_linesearch.py:314: LineSearchWarning: The line search algorithm did not converge\n",
      "  warn('The line search algorithm did not converge', LineSearchWarning)\n",
      "/home/zarko/TCCM/lib/python3.10/site-packages/sklearn/utils/optimize.py:204: UserWarning: Line Search failed\n",
      "  warnings.warn(\"Line Search failed\")\n",
      "/home/zarko/TCCM/lib/python3.10/site-packages/scipy/optimize/_linesearch.py:314: LineSearchWarning: The line search algorithm did not converge\n",
      "  warn('The line search algorithm did not converge', LineSearchWarning)\n",
      "/home/zarko/TCCM/lib/python3.10/site-packages/sklearn/utils/optimize.py:204: UserWarning: Line Search failed\n",
      "  warnings.warn(\"Line Search failed\")\n",
      "/home/zarko/TCCM/lib/python3.10/site-packages/scipy/optimize/_linesearch.py:314: LineSearchWarning: The line search algorithm did not converge\n",
      "  warn('The line search algorithm did not converge', LineSearchWarning)\n",
      "/home/zarko/TCCM/lib/python3.10/site-packages/sklearn/utils/optimize.py:204: UserWarning: Line Search failed\n",
      "  warnings.warn(\"Line Search failed\")\n",
      "/home/zarko/TCCM/lib/python3.10/site-packages/scipy/optimize/_linesearch.py:314: LineSearchWarning: The line search algorithm did not converge\n",
      "  warn('The line search algorithm did not converge', LineSearchWarning)\n",
      "/home/zarko/TCCM/lib/python3.10/site-packages/sklearn/utils/optimize.py:204: UserWarning: Line Search failed\n",
      "  warnings.warn(\"Line Search failed\")\n",
      "/home/zarko/TCCM/lib/python3.10/site-packages/scipy/optimize/_linesearch.py:314: LineSearchWarning: The line search algorithm did not converge\n",
      "  warn('The line search algorithm did not converge', LineSearchWarning)\n",
      "/home/zarko/TCCM/lib/python3.10/site-packages/sklearn/utils/optimize.py:204: UserWarning: Line Search failed\n",
      "  warnings.warn(\"Line Search failed\")\n",
      "/home/zarko/TCCM/lib/python3.10/site-packages/scipy/optimize/_linesearch.py:314: LineSearchWarning: The line search algorithm did not converge\n",
      "  warn('The line search algorithm did not converge', LineSearchWarning)\n",
      "/home/zarko/TCCM/lib/python3.10/site-packages/sklearn/utils/optimize.py:204: UserWarning: Line Search failed\n",
      "  warnings.warn(\"Line Search failed\")\n",
      "/home/zarko/TCCM/lib/python3.10/site-packages/scipy/optimize/_linesearch.py:314: LineSearchWarning: The line search algorithm did not converge\n",
      "  warn('The line search algorithm did not converge', LineSearchWarning)\n",
      "/home/zarko/TCCM/lib/python3.10/site-packages/sklearn/utils/optimize.py:204: UserWarning: Line Search failed\n",
      "  warnings.warn(\"Line Search failed\")\n",
      "/home/zarko/TCCM/lib/python3.10/site-packages/scipy/optimize/_linesearch.py:314: LineSearchWarning: The line search algorithm did not converge\n",
      "  warn('The line search algorithm did not converge', LineSearchWarning)\n",
      "/home/zarko/TCCM/lib/python3.10/site-packages/sklearn/utils/optimize.py:204: UserWarning: Line Search failed\n",
      "  warnings.warn(\"Line Search failed\")\n",
      "/home/zarko/TCCM/lib/python3.10/site-packages/scipy/optimize/_linesearch.py:314: LineSearchWarning: The line search algorithm did not converge\n",
      "  warn('The line search algorithm did not converge', LineSearchWarning)\n",
      "/home/zarko/TCCM/lib/python3.10/site-packages/sklearn/utils/optimize.py:204: UserWarning: Line Search failed\n",
      "  warnings.warn(\"Line Search failed\")\n",
      "/home/zarko/TCCM/lib/python3.10/site-packages/scipy/optimize/_linesearch.py:314: LineSearchWarning: The line search algorithm did not converge\n",
      "  warn('The line search algorithm did not converge', LineSearchWarning)\n",
      "/home/zarko/TCCM/lib/python3.10/site-packages/sklearn/utils/optimize.py:204: UserWarning: Line Search failed\n",
      "  warnings.warn(\"Line Search failed\")\n"
     ]
    },
    {
     "ename": "KeyboardInterrupt",
     "evalue": "",
     "output_type": "error",
     "traceback": [
      "\u001b[0;31m---------------------------------------------------------------------------\u001b[0m",
      "\u001b[0;31mKeyboardInterrupt\u001b[0m                         Traceback (most recent call last)",
      "\u001b[1;32m/home/zarko/M2/TCCM-Homework---MML/Ivkovic_Zarko_HW_MML.ipynb Cell 50\u001b[0m line \u001b[0;36m7\n\u001b[1;32m      <a href='vscode-notebook-cell:/home/zarko/M2/TCCM-Homework---MML/Ivkovic_Zarko_HW_MML.ipynb#X65sZmlsZQ%3D%3D?line=0'>1</a>\u001b[0m hiperparam_opt2_red \u001b[39m=\u001b[39m BayesSearchCV(\n\u001b[1;32m      <a href='vscode-notebook-cell:/home/zarko/M2/TCCM-Homework---MML/Ivkovic_Zarko_HW_MML.ipynb#X65sZmlsZQ%3D%3D?line=1'>2</a>\u001b[0m     model2_red, search_spaces\u001b[39m=\u001b[39mparam_grid2, random_state\u001b[39m=\u001b[39m\u001b[39m7\u001b[39m, scoring\u001b[39m=\u001b[39m\u001b[39m'\u001b[39m\u001b[39mneg_mean_squared_error\u001b[39m\u001b[39m'\u001b[39m,\n\u001b[1;32m      <a href='vscode-notebook-cell:/home/zarko/M2/TCCM-Homework---MML/Ivkovic_Zarko_HW_MML.ipynb#X65sZmlsZQ%3D%3D?line=2'>3</a>\u001b[0m )\n\u001b[1;32m      <a href='vscode-notebook-cell:/home/zarko/M2/TCCM-Homework---MML/Ivkovic_Zarko_HW_MML.ipynb#X65sZmlsZQ%3D%3D?line=3'>4</a>\u001b[0m hiperparam_opt2_white \u001b[39m=\u001b[39m BayesSearchCV(\n\u001b[1;32m      <a href='vscode-notebook-cell:/home/zarko/M2/TCCM-Homework---MML/Ivkovic_Zarko_HW_MML.ipynb#X65sZmlsZQ%3D%3D?line=4'>5</a>\u001b[0m     model2_red, search_spaces\u001b[39m=\u001b[39mparam_grid2, random_state\u001b[39m=\u001b[39m\u001b[39m7\u001b[39m, scoring\u001b[39m=\u001b[39m\u001b[39m'\u001b[39m\u001b[39mneg_mean_squared_error\u001b[39m\u001b[39m'\u001b[39m,cv\u001b[39m=\u001b[39m\u001b[39m3\u001b[39m\n\u001b[1;32m      <a href='vscode-notebook-cell:/home/zarko/M2/TCCM-Homework---MML/Ivkovic_Zarko_HW_MML.ipynb#X65sZmlsZQ%3D%3D?line=5'>6</a>\u001b[0m )\n\u001b[0;32m----> <a href='vscode-notebook-cell:/home/zarko/M2/TCCM-Homework---MML/Ivkovic_Zarko_HW_MML.ipynb#X65sZmlsZQ%3D%3D?line=6'>7</a>\u001b[0m hiperparam_opt2_white\u001b[39m.\u001b[39;49mfit(x_white_train, y_white_train[\u001b[39m'\u001b[39;49m\u001b[39mquality\u001b[39;49m\u001b[39m'\u001b[39;49m])\n\u001b[1;32m      <a href='vscode-notebook-cell:/home/zarko/M2/TCCM-Homework---MML/Ivkovic_Zarko_HW_MML.ipynb#X65sZmlsZQ%3D%3D?line=7'>8</a>\u001b[0m hiperparam_opt2_red\u001b[39m.\u001b[39mfit(x_red_train, y_red_train)\n",
      "File \u001b[0;32m~/TCCM/lib/python3.10/site-packages/skopt/searchcv.py:466\u001b[0m, in \u001b[0;36mBayesSearchCV.fit\u001b[0;34m(self, X, y, groups, callback, **fit_params)\u001b[0m\n\u001b[1;32m    463\u001b[0m \u001b[39melse\u001b[39;00m:\n\u001b[1;32m    464\u001b[0m     \u001b[39mself\u001b[39m\u001b[39m.\u001b[39moptimizer_kwargs_ \u001b[39m=\u001b[39m \u001b[39mdict\u001b[39m(\u001b[39mself\u001b[39m\u001b[39m.\u001b[39moptimizer_kwargs)\n\u001b[0;32m--> 466\u001b[0m \u001b[39msuper\u001b[39;49m()\u001b[39m.\u001b[39;49mfit(X\u001b[39m=\u001b[39;49mX, y\u001b[39m=\u001b[39;49my, groups\u001b[39m=\u001b[39;49mgroups, \u001b[39m*\u001b[39;49m\u001b[39m*\u001b[39;49mfit_params)\n\u001b[1;32m    468\u001b[0m \u001b[39m# BaseSearchCV never ranked train scores,\u001b[39;00m\n\u001b[1;32m    469\u001b[0m \u001b[39m# but apparently we used to ship this (back-compat)\u001b[39;00m\n\u001b[1;32m    470\u001b[0m \u001b[39mif\u001b[39;00m \u001b[39mself\u001b[39m\u001b[39m.\u001b[39mreturn_train_score:\n",
      "File \u001b[0;32m~/TCCM/lib/python3.10/site-packages/sklearn/base.py:1152\u001b[0m, in \u001b[0;36m_fit_context.<locals>.decorator.<locals>.wrapper\u001b[0;34m(estimator, *args, **kwargs)\u001b[0m\n\u001b[1;32m   1145\u001b[0m     estimator\u001b[39m.\u001b[39m_validate_params()\n\u001b[1;32m   1147\u001b[0m \u001b[39mwith\u001b[39;00m config_context(\n\u001b[1;32m   1148\u001b[0m     skip_parameter_validation\u001b[39m=\u001b[39m(\n\u001b[1;32m   1149\u001b[0m         prefer_skip_nested_validation \u001b[39mor\u001b[39;00m global_skip_validation\n\u001b[1;32m   1150\u001b[0m     )\n\u001b[1;32m   1151\u001b[0m ):\n\u001b[0;32m-> 1152\u001b[0m     \u001b[39mreturn\u001b[39;00m fit_method(estimator, \u001b[39m*\u001b[39;49margs, \u001b[39m*\u001b[39;49m\u001b[39m*\u001b[39;49mkwargs)\n",
      "File \u001b[0;32m~/TCCM/lib/python3.10/site-packages/sklearn/model_selection/_search.py:898\u001b[0m, in \u001b[0;36mBaseSearchCV.fit\u001b[0;34m(self, X, y, groups, **fit_params)\u001b[0m\n\u001b[1;32m    892\u001b[0m     results \u001b[39m=\u001b[39m \u001b[39mself\u001b[39m\u001b[39m.\u001b[39m_format_results(\n\u001b[1;32m    893\u001b[0m         all_candidate_params, n_splits, all_out, all_more_results\n\u001b[1;32m    894\u001b[0m     )\n\u001b[1;32m    896\u001b[0m     \u001b[39mreturn\u001b[39;00m results\n\u001b[0;32m--> 898\u001b[0m \u001b[39mself\u001b[39;49m\u001b[39m.\u001b[39;49m_run_search(evaluate_candidates)\n\u001b[1;32m    900\u001b[0m \u001b[39m# multimetric is determined here because in the case of a callable\u001b[39;00m\n\u001b[1;32m    901\u001b[0m \u001b[39m# self.scoring the return type is only known after calling\u001b[39;00m\n\u001b[1;32m    902\u001b[0m first_test_score \u001b[39m=\u001b[39m all_out[\u001b[39m0\u001b[39m][\u001b[39m\"\u001b[39m\u001b[39mtest_scores\u001b[39m\u001b[39m\"\u001b[39m]\n",
      "File \u001b[0;32m~/TCCM/lib/python3.10/site-packages/skopt/searchcv.py:512\u001b[0m, in \u001b[0;36mBayesSearchCV._run_search\u001b[0;34m(self, evaluate_candidates)\u001b[0m\n\u001b[1;32m    508\u001b[0m \u001b[39mwhile\u001b[39;00m n_iter \u001b[39m>\u001b[39m \u001b[39m0\u001b[39m:\n\u001b[1;32m    509\u001b[0m     \u001b[39m# when n_iter < n_points points left for evaluation\u001b[39;00m\n\u001b[1;32m    510\u001b[0m     n_points_adjusted \u001b[39m=\u001b[39m \u001b[39mmin\u001b[39m(n_iter, n_points)\n\u001b[0;32m--> 512\u001b[0m     optim_result \u001b[39m=\u001b[39m \u001b[39mself\u001b[39;49m\u001b[39m.\u001b[39;49m_step(\n\u001b[1;32m    513\u001b[0m         search_space, optimizer,\n\u001b[1;32m    514\u001b[0m         evaluate_candidates, n_points\u001b[39m=\u001b[39;49mn_points_adjusted\n\u001b[1;32m    515\u001b[0m     )\n\u001b[1;32m    516\u001b[0m     n_iter \u001b[39m-\u001b[39m\u001b[39m=\u001b[39m n_points\n\u001b[1;32m    518\u001b[0m     \u001b[39mif\u001b[39;00m eval_callbacks(callbacks, optim_result):\n",
      "File \u001b[0;32m~/TCCM/lib/python3.10/site-packages/skopt/searchcv.py:400\u001b[0m, in \u001b[0;36mBayesSearchCV._step\u001b[0;34m(self, search_space, optimizer, evaluate_candidates, n_points)\u001b[0m\n\u001b[1;32m    397\u001b[0m \u001b[39m\u001b[39m\u001b[39m\"\"\"Generate n_jobs parameters and evaluate them in parallel.\u001b[39;00m\n\u001b[1;32m    398\u001b[0m \u001b[39m\"\"\"\u001b[39;00m\n\u001b[1;32m    399\u001b[0m \u001b[39m# get parameter values to evaluate\u001b[39;00m\n\u001b[0;32m--> 400\u001b[0m params \u001b[39m=\u001b[39m optimizer\u001b[39m.\u001b[39;49mask(n_points\u001b[39m=\u001b[39;49mn_points)\n\u001b[1;32m    402\u001b[0m \u001b[39m# convert parameters to python native types\u001b[39;00m\n\u001b[1;32m    403\u001b[0m params \u001b[39m=\u001b[39m [[np\u001b[39m.\u001b[39marray(v)\u001b[39m.\u001b[39mitem() \u001b[39mfor\u001b[39;00m v \u001b[39min\u001b[39;00m p] \u001b[39mfor\u001b[39;00m p \u001b[39min\u001b[39;00m params]\n",
      "File \u001b[0;32m~/TCCM/lib/python3.10/site-packages/skopt/optimizer/optimizer.py:390\u001b[0m, in \u001b[0;36mOptimizer.ask\u001b[0;34m(self, n_points, strategy)\u001b[0m\n\u001b[1;32m    385\u001b[0m     \u001b[39mreturn\u001b[39;00m \u001b[39mself\u001b[39m\u001b[39m.\u001b[39mcache_[(n_points, strategy)]\n\u001b[1;32m    387\u001b[0m \u001b[39m# Copy of the optimizer is made in order to manage the\u001b[39;00m\n\u001b[1;32m    388\u001b[0m \u001b[39m# deletion of points with \"lie\" objective (the copy of\u001b[39;00m\n\u001b[1;32m    389\u001b[0m \u001b[39m# oiptimizer is simply discarded)\u001b[39;00m\n\u001b[0;32m--> 390\u001b[0m opt \u001b[39m=\u001b[39m \u001b[39mself\u001b[39;49m\u001b[39m.\u001b[39;49mcopy(random_state\u001b[39m=\u001b[39;49m\u001b[39mself\u001b[39;49m\u001b[39m.\u001b[39;49mrng\u001b[39m.\u001b[39;49mrandint(\u001b[39m0\u001b[39;49m,\n\u001b[1;32m    391\u001b[0m                                               np\u001b[39m.\u001b[39;49miinfo(np\u001b[39m.\u001b[39;49mint32)\u001b[39m.\u001b[39;49mmax))\n\u001b[1;32m    393\u001b[0m X \u001b[39m=\u001b[39m []\n\u001b[1;32m    394\u001b[0m \u001b[39mfor\u001b[39;00m i \u001b[39min\u001b[39;00m \u001b[39mrange\u001b[39m(n_points):\n",
      "File \u001b[0;32m~/TCCM/lib/python3.10/site-packages/skopt/optimizer/optimizer.py:331\u001b[0m, in \u001b[0;36mOptimizer.copy\u001b[0;34m(self, random_state)\u001b[0m\n\u001b[1;32m    329\u001b[0m     optimizer\u001b[39m.\u001b[39mgains_ \u001b[39m=\u001b[39m np\u001b[39m.\u001b[39mcopy(\u001b[39mself\u001b[39m\u001b[39m.\u001b[39mgains_)\n\u001b[1;32m    330\u001b[0m \u001b[39mif\u001b[39;00m \u001b[39mself\u001b[39m\u001b[39m.\u001b[39mXi:\n\u001b[0;32m--> 331\u001b[0m     optimizer\u001b[39m.\u001b[39;49m_tell(\u001b[39mself\u001b[39;49m\u001b[39m.\u001b[39;49mXi, \u001b[39mself\u001b[39;49m\u001b[39m.\u001b[39;49myi)\n\u001b[1;32m    333\u001b[0m \u001b[39mreturn\u001b[39;00m optimizer\n",
      "File \u001b[0;32m~/TCCM/lib/python3.10/site-packages/skopt/optimizer/optimizer.py:552\u001b[0m, in \u001b[0;36mOptimizer._tell\u001b[0;34m(self, x, y, fit)\u001b[0m\n\u001b[1;32m    548\u001b[0m     \u001b[39mself\u001b[39m\u001b[39m.\u001b[39mmodels\u001b[39m.\u001b[39mappend(est)\n\u001b[1;32m    550\u001b[0m \u001b[39m# even with BFGS as optimizer we want to sample a large number\u001b[39;00m\n\u001b[1;32m    551\u001b[0m \u001b[39m# of points and then pick the best ones as starting points\u001b[39;00m\n\u001b[0;32m--> 552\u001b[0m X \u001b[39m=\u001b[39m \u001b[39mself\u001b[39m\u001b[39m.\u001b[39mspace\u001b[39m.\u001b[39mtransform(\u001b[39mself\u001b[39;49m\u001b[39m.\u001b[39;49mspace\u001b[39m.\u001b[39;49mrvs(\n\u001b[1;32m    553\u001b[0m     n_samples\u001b[39m=\u001b[39;49m\u001b[39mself\u001b[39;49m\u001b[39m.\u001b[39;49mn_points, random_state\u001b[39m=\u001b[39;49m\u001b[39mself\u001b[39;49m\u001b[39m.\u001b[39;49mrng))\n\u001b[1;32m    555\u001b[0m \u001b[39mself\u001b[39m\u001b[39m.\u001b[39mnext_xs_ \u001b[39m=\u001b[39m []\n\u001b[1;32m    556\u001b[0m \u001b[39mfor\u001b[39;00m cand_acq_func \u001b[39min\u001b[39;00m \u001b[39mself\u001b[39m\u001b[39m.\u001b[39mcand_acq_funcs_:\n",
      "File \u001b[0;32m~/TCCM/lib/python3.10/site-packages/skopt/space/space.py:903\u001b[0m, in \u001b[0;36mSpace.rvs\u001b[0;34m(self, n_samples, random_state)\u001b[0m\n\u001b[1;32m    900\u001b[0m     columns\u001b[39m.\u001b[39mappend(dim\u001b[39m.\u001b[39mrvs(n_samples\u001b[39m=\u001b[39mn_samples, random_state\u001b[39m=\u001b[39mrng))\n\u001b[1;32m    902\u001b[0m \u001b[39m# Transpose\u001b[39;00m\n\u001b[0;32m--> 903\u001b[0m \u001b[39mreturn\u001b[39;00m _transpose_list_array(columns)\n",
      "File \u001b[0;32m~/TCCM/lib/python3.10/site-packages/skopt/space/space.py:38\u001b[0m, in \u001b[0;36m_transpose_list_array\u001b[0;34m(x)\u001b[0m\n\u001b[1;32m     36\u001b[0m     r \u001b[39m=\u001b[39m [\u001b[39mNone\u001b[39;00m] \u001b[39m*\u001b[39m n_dims\n\u001b[1;32m     37\u001b[0m     \u001b[39mfor\u001b[39;00m j \u001b[39min\u001b[39;00m \u001b[39mrange\u001b[39m(n_dims):\n\u001b[0;32m---> 38\u001b[0m         r[j] \u001b[39m=\u001b[39m x[j][i]\n\u001b[1;32m     39\u001b[0m     rows[i] \u001b[39m=\u001b[39m r\n\u001b[1;32m     40\u001b[0m \u001b[39mreturn\u001b[39;00m rows\n",
      "\u001b[0;31mKeyboardInterrupt\u001b[0m: "
     ]
    }
   ],
   "source": [
    "hiperparam_opt2_red = BayesSearchCV(\n",
    "    model2_red, search_spaces=param_grid2, random_state=7, scoring='neg_mean_squared_error',\n",
    ")\n",
    "hiperparam_opt2_white = BayesSearchCV(\n",
    "    model2_red, search_spaces=param_grid2, random_state=7, scoring='neg_mean_squared_error',cv=3\n",
    ")\n",
    "hiperparam_opt2_white.fit(x_white_train, y_white_train)\n",
    "hiperparam_opt2_red.fit(x_red_train, y_red_train)"
   ]
  },
  {
   "cell_type": "code",
   "execution_count": null,
   "id": "ae0208e1",
   "metadata": {},
   "outputs": [],
   "source": [
    "hiperparam_opt2_red.best_params_\n",
    "print(hiperparam_opt2_red.best_estimator_.feature_names_in_)\n",
    "hiperparam_opt2_red.best_estimator_.named_steps['feature_selection'].get_feature_names_out(hiperparam_opt2_red.best_estimator_.feature_names_in_)"
   ]
  },
  {
   "cell_type": "code",
   "execution_count": null,
   "id": "d2cf39d2",
   "metadata": {},
   "outputs": [],
   "source": [
    "\n",
    "Y_predict2_red_predict = hiperparam_opt2_red.predict(x_red_test)\n",
    "ConfusionMatrixDisplay.from_predictions(y_red_test,Y_predict2_red_predict,labels=[3,4,5,6,7,8])\n"
   ]
  },
  {
   "cell_type": "code",
   "execution_count": null,
   "id": "60cf1d36",
   "metadata": {},
   "outputs": [],
   "source": [
    "print(balanced_accuracy_score(y_red_test,Y_predict2_red_predict))\n",
    "print(accuracy_score(y_red_test,Y_predict2_red_predict))"
   ]
  },
  {
   "cell_type": "markdown",
   "id": "49d0f3e7",
   "metadata": {},
   "source": [
    "## ANN Regressor for ordinal classification"
   ]
  },
  {
   "cell_type": "code",
   "execution_count": null,
   "id": "faed7705",
   "metadata": {},
   "outputs": [],
   "source": [
    "# Check for cuda \n",
    "device = device('cuda:0' if cuda.is_available() else 'cpu') "
   ]
  },
  {
   "cell_type": "code",
   "execution_count": null,
   "id": "a194f313",
   "metadata": {},
   "outputs": [],
   "source": [
    "class ModuleRegressor(nn.Module):\n",
    "    def __init__(self, n_layers=2,layer_width=50,n_features=11):\n",
    "        super(ModuleRegressor,self).__init__()\n",
    "        self.layers = []\n",
    "        self.acts = []\n",
    "        self.layers.append(nn.Linear(n_features, layer_width))\n",
    "        self.acts.append(nn.ReLU())\n",
    "        for _ in range(n_layers):\n",
    "            self.layers.append(nn.Linear(layer_width, layer_width))\n",
    "            self.acts.append(nn.ReLU())\n",
    "        self.output = nn.Linear(layer_width,1)\n",
    "    def forward(self, x):\n",
    "        for layer, act in zip(self.layers, self.acts):\n",
    "            x = act(layer(x))\n",
    "        x = self.output(x)\n",
    "        return x"
   ]
  },
  {
   "cell_type": "code",
   "execution_count": null,
   "id": "a332da88",
   "metadata": {},
   "outputs": [],
   "source": [
    "class NNRegressor(NeuralNetRegressor):\n",
    "    def decision_function(self,X):\n",
    "        return np.round(super().predict(X))\n",
    "classifier_softmax = NeuralNetRegressor(\n",
    "    ModuleRegressor,\n",
    "    optimizer=Adam,\n",
    "    max_epochs=150,\n",
    "    lr=0.001,\n",
    "    iterator_train__shuffle=True,\n",
    "    callbacks=[EarlyStopping,],\n",
    "    callbacks__EarlyStopping__patience=5,\n",
    "    batch_size=128,\n",
    ")\n",
    "pipe3 = Pipeline([(\"scaler\",RobustScaler()),\n",
    "                  (\"data_augmentation\",SMOTE(random_state=7)),\n",
    "                 (\"classifier\",classifier_softmax),\n",
    "                 ])"
   ]
  },
  {
   "cell_type": "markdown",
   "id": "8eaf0141",
   "metadata": {},
   "source": [
    "### ANN Classifier for ordinal classification"
   ]
  },
  {
   "cell_type": "code",
   "execution_count": null,
   "id": "7d88f36c",
   "metadata": {},
   "outputs": [],
   "source": [
    "from torch import nn, manual_seed, set_default_dtype, float64, device, cuda\n",
    "from torch.optim import Adam\n",
    "set_default_dtype(float64)\n",
    "manual_seed(7)\n",
    "from skorch import NeuralNetClassifier\n",
    "from skorch.callbacks import EarlyStopping\n",
    "# Check for cuda \n",
    "device = device('cuda:0' if cuda.is_available() else 'cpu') \n"
   ]
  },
  {
   "cell_type": "code",
   "execution_count": null,
   "id": "af428062",
   "metadata": {},
   "outputs": [],
   "source": [
    "class ModuleClassifier(nn.Module):\n",
    "    def __init__(self, n_layers=2,layer_width=50,n_class=10,n_features=11):\n",
    "        super(ModuleClassifier,self).__init__()\n",
    "        self.layers = []\n",
    "        self.acts = []\n",
    "        self.layers.append(nn.Linear(n_features, layer_width))\n",
    "        self.acts.append(nn.ReLU())\n",
    "        for _ in range(n_layers):\n",
    "            self.layers.append(nn.Linear(layer_width, layer_width))\n",
    "            self.acts.append(nn.ReLU())\n",
    "        self.output = nn.Linear(layer_width, n_class)\n",
    "        self.softmax = nn.functional.softmax\n",
    "    def forward(self, x):\n",
    "        for layer, act in zip(self.layers, self.acts):\n",
    "            x = act(layer(x))\n",
    "        x = self.output(x)\n",
    "        x = self.softmax(x,-1)\n",
    "        return x"
   ]
  },
  {
   "cell_type": "code",
   "execution_count": null,
   "id": "563c4d71",
   "metadata": {},
   "outputs": [],
   "source": [
    "classifier_softmax = NeuralNetClassifier(\n",
    "    ModuleClassifier,\n",
    "    optimizer=Adam,\n",
    "    max_epochs=150,\n",
    "    criterion=nn.NLLLoss(),\n",
    "    lr=0.001,\n",
    "    iterator_train__shuffle=True,\n",
    "    callbacks=[EarlyStopping,],\n",
    "    callbacks__EarlyStopping__patience=5,\n",
    "    batch_size=128,\n",
    ")\n",
    "pipe3 = Pipeline([(\"scaler\",RobustScaler()),\n",
    "                  (\"data_augmentation\",SMOTE(random_state=7)),\n",
    "                 (\"classifier\",classifier_softmax),\n",
    "                 ])"
   ]
  },
  {
   "cell_type": "code",
   "execution_count": null,
   "id": "977ea5a1",
   "metadata": {},
   "outputs": [],
   "source": [
    "param_grid = {\n",
    "   'data_augmentation' : Categorical(['passthrough',SMOTE(random_state=7,)]),\n",
    "   'classifier__lr': Real(1e-6, 1e-1, prior='log-uniform'),\n",
    "   'classifier__batch_size': Integer(16,256, prior=\"log-uniform\",base=2),\n",
    "   'classifier__module__n_layers': Integer(1,4),\n",
    "   'classifier__module__layer_width': Integer(20,100),\n",
    "   }\n",
    "\n",
    "hiperparam_opt3_red = BayesSearchCV(\n",
    "    pipe3,\n",
    "    search_spaces=param_grid,\n",
    "    random_state=7,\n",
    "    \n",
    ")"
   ]
  },
  {
   "cell_type": "code",
   "execution_count": null,
   "id": "ac0f6b98",
   "metadata": {},
   "outputs": [],
   "source": [
    "hiperparam_opt3_red.fit(x_red_train,y_red_train)"
   ]
  },
  {
   "cell_type": "code",
   "execution_count": null,
   "id": "082d03ea",
   "metadata": {},
   "outputs": [],
   "source": [
    "hiperparam_opt3_red.best_params_"
   ]
  },
  {
   "cell_type": "code",
   "execution_count": null,
   "id": "a445106f",
   "metadata": {},
   "outputs": [],
   "source": [
    "a = hiperparam_opt3_red.best_estimator_\n",
    "history = a[-1].history\n",
    "fig, ax = plt.subplots()\n",
    "ax.plot(np.arange(1,len(history)+1),history[:, 'train_loss'],label=\"Training\");\n",
    "ax.plot(np.arange(1,len(history)+1),history[:, 'valid_loss'],label=\"Validation\");\n",
    "ax.legend();"
   ]
  },
  {
   "cell_type": "code",
   "execution_count": null,
   "id": "9ba1da9a",
   "metadata": {},
   "outputs": [],
   "source": [
    "Y = hiperparam_opt3_red.predict(x_red_test.values)\n",
    "ConfusionMatrixDisplay.from_predictions(y_red_test,Y);\n",
    "accuracy_score(y_red_test,Y)"
   ]
  },
  {
   "cell_type": "code",
   "execution_count": null,
   "id": "306daa87",
   "metadata": {},
   "outputs": [],
   "source": [
    "param_grid_softmax = [\n",
    "  {\n",
    "   'data_augmentation' : Categorical(['passthrough',SMOTE(random_state=7,)]),\n",
    "   },\n",
    " ]"
   ]
  },
  {
   "cell_type": "code",
   "execution_count": null,
   "id": "7c4babf8",
   "metadata": {},
   "outputs": [],
   "source": [
    "pipe_softmax = Pipeline([(\"scaler\",RobustScaler()),\n",
    "                 (\"data_augmentation\",SMOTE(random_state=7,)),\n",
    "                 (\"regressor\",classifier_softmax),\n",
    "                 ])\n",
    "grid_search_softmax = BayesSearchCV(\n",
    "    pipe_softmax, search_spaces=param_grid_softmax\n",
    ")\n",
    "grid_search_softmax.fit(x_red_train, y_red_train)"
   ]
  },
  {
   "cell_type": "code",
   "execution_count": null,
   "id": "9cb108dc",
   "metadata": {},
   "outputs": [],
   "source": [
    "Y = classifier_softmax.predict(x_red_test)\n",
    "conf_matrix = confusion_matrix(y_red_test, Y,labels=[3,4,5,6,7,8])\n",
    "ConfusionMatrixDisplay.from_predictions(y_red_test,Y,labels=[3,4,5,6,7,8])"
   ]
  },
  {
   "cell_type": "markdown",
   "id": "1d575c96",
   "metadata": {},
   "source": [
    "### ANN Classification for ordinal classification"
   ]
  },
  {
   "cell_type": "code",
   "execution_count": null,
   "id": "1998a632",
   "metadata": {
    "tags": []
   },
   "outputs": [],
   "source": [
    "vID.end(cwd0)"
   ]
  },
  {
   "cell_type": "code",
   "execution_count": null,
   "id": "fdb92c04-23d1-4c52-885d-fa8e5eee43c7",
   "metadata": {},
   "outputs": [],
   "source": []
  }
 ],
 "metadata": {
  "celltoolbar": "Raw Cell Format",
  "kernelspec": {
   "display_name": "Python 3 (ipykernel)",
   "language": "python",
   "name": "python3"
  },
  "language_info": {
   "codemirror_mode": {
    "name": "ipython",
    "version": 3
   },
   "file_extension": ".py",
   "mimetype": "text/x-python",
   "name": "python",
   "nbconvert_exporter": "python",
   "pygments_lexer": "ipython3",
   "version": "3.10.12"
  }
 },
 "nbformat": 4,
 "nbformat_minor": 5
}
